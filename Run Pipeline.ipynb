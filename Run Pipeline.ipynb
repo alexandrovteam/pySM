{
 "cells": [
  {
   "cell_type": "code",
   "execution_count": 1,
   "metadata": {
    "collapsed": false
   },
   "outputs": [
    {
     "name": "stdout",
     "output_type": "stream",
     "text": [
      "all isotope patterns generated and loaded\n",
      "loaded spectra\n",
      "file loaded"
     ]
    },
    {
     "name": "stderr",
     "output_type": "stream",
     "text": [
      "/Library/Anaconda/anaconda/lib/python2.7/site-packages/numpy/core/_methods.py:59: RuntimeWarning: Mean of empty slice.\n",
      "  warnings.warn(\"Mean of empty slice.\", RuntimeWarning)\n",
      "/Library/Anaconda/anaconda/lib/python2.7/site-packages/numpy/core/_methods.py:71: RuntimeWarning: invalid value encountered in double_scalars\n",
      "  ret = ret.dtype.type(ret / rcount)\n",
      "/Library/Anaconda/anaconda/lib/python2.7/site-packages/numpy/lib/function_base.py:1957: RuntimeWarning: invalid value encountered in true_divide\n",
      "  return c / sqrt(multiply.outer(d, d))\n"
     ]
    },
    {
     "name": "stdout",
     "output_type": "stream",
     "text": [
      "\n",
      "all isotope patterns generated and loaded\n",
      "all isotope patterns generated and loaded\n"
     ]
    },
    {
     "name": "stderr",
     "output_type": "stream",
     "text": [
      "/Users/palmer/Documents/python_codebase/pyIMS/image_measures/isotope_pattern_match.py:14: RuntimeWarning: invalid value encountered in divide\n",
      "  isotope_pattern_match = 1-np.mean(abs(theoretical_isotope_intensity/np.linalg.norm(theoretical_isotope_intensity) - image_intensities/np.linalg.norm(image_intensities)))\n"
     ]
    }
   ],
   "source": [
    "import sys\n",
    "sys.path.append('/Users/palmer/Documents/python_codebase/')\n",
    "from pySpatialMetabolomics import spatial_metabolomics\n",
    "\n",
    "json_filename = '/Users/palmer/Documents/tmp_data/finger_print/SM_input_fingerprint1.json'\n",
    "spatial_metabolomics.run_pipeline(json_filename)"
   ]
  }
 ],
 "metadata": {
  "kernelspec": {
   "display_name": "Python 2",
   "language": "python",
   "name": "python2"
  },
  "language_info": {
   "codemirror_mode": {
    "name": "ipython",
    "version": 2
   },
   "file_extension": ".py",
   "mimetype": "text/x-python",
   "name": "python",
   "nbconvert_exporter": "python",
   "pygments_lexer": "ipython2",
   "version": "2.7.9"
  }
 },
 "nbformat": 4,
 "nbformat_minor": 0
}
